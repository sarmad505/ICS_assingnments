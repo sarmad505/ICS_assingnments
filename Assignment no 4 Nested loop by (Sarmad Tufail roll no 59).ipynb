{
 "cells": [
  {
   "cell_type": "markdown",
   "metadata": {},
   "source": [
    "# write a program which will take height of pyramid as input from user and print pyramid of user defined height\n"
   ]
  },
  {
   "cell_type": "code",
   "execution_count": 1,
   "metadata": {},
   "outputs": [
    {
     "name": "stdout",
     "output_type": "stream",
     "text": [
      "Enter hieght of a pyramid: 5\n",
      "     *\n",
      "    ***\n",
      "   *****\n",
      "  *******\n",
      " *********\n"
     ]
    }
   ],
   "source": [
    "Height= int(input(\"Enter hieght of a pyramid: \"))\n",
    "for i in range (0,Height):\n",
    "    for j in range (0,Height-i):\n",
    "        print(\" \",end=\"\")\n",
    "    for k in range (0,(2*i+1)):\n",
    "        print(\"*\",end=\"\")\n",
    "    print ()\n",
    "    "
   ]
  },
  {
   "cell_type": "markdown",
   "metadata": {},
   "source": [
    "# Method 2"
   ]
  },
  {
   "cell_type": "code",
   "execution_count": 2,
   "metadata": {},
   "outputs": [
    {
     "name": "stdout",
     "output_type": "stream",
     "text": [
      "Enter hieght of a pyramid: 5\n",
      "     * \n",
      "    * * \n",
      "   * * * \n",
      "  * * * * \n",
      " * * * * * \n"
     ]
    }
   ],
   "source": [
    "Height= int(input(\"Enter hieght of a pyramid: \"))\n",
    "for i in range (0,Height):\n",
    "    for j in range (Height-i):\n",
    "        print(\" \",end=\"\")\n",
    "    for k in range (i+1):\n",
    "        print(\"*\",end=\" \")\n",
    "    print ()"
   ]
  },
  {
   "cell_type": "code",
   "execution_count": null,
   "metadata": {},
   "outputs": [],
   "source": []
  }
 ],
 "metadata": {
  "kernelspec": {
   "display_name": "Python 3",
   "language": "python",
   "name": "python3"
  },
  "language_info": {
   "codemirror_mode": {
    "name": "ipython",
    "version": 3
   },
   "file_extension": ".py",
   "mimetype": "text/x-python",
   "name": "python",
   "nbconvert_exporter": "python",
   "pygments_lexer": "ipython3",
   "version": "3.8.5"
  }
 },
 "nbformat": 4,
 "nbformat_minor": 4
}

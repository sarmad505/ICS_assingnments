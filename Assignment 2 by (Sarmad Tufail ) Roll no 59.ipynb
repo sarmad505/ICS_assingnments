{
 "cells": [
  {
   "cell_type": "markdown",
   "metadata": {},
   "source": [
    "# Q1 : If cost price and selling price of an item is input through keyboard, write a program to determine whether the seller has made profit or incurred loss. Also determine how much profit he made or loss he incurred."
   ]
  },
  {
   "cell_type": "code",
   "execution_count": 16,
   "metadata": {},
   "outputs": [
    {
     "name": "stdout",
     "output_type": "stream",
     "text": [
      "Enter cost price of an item = 10\n",
      "Enter selling price price of an item = 12\n",
      "you are in profit and amaount of profit is   2\n"
     ]
    }
   ],
   "source": [
    "costPrice = int(input(\"Enter cost price of an item = \"))\n",
    "\n",
    "sellingPrice = int(input(\"Enter selling price price of an item = \"))\n",
    "\n",
    "if sellingPrice > costPrice:\n",
    "    \n",
    "    profit = sellingPrice - costPrice\n",
    "    \n",
    "    print (\"you are in profit and amaount of profit is  \" , profit)\n",
    "    \n",
    "else:\n",
    "    \n",
    "    loss = costPrice - sellingPrice\n",
    "    \n",
    "    print(\"you are in loss and amount of loss is  \" , loss)"
   ]
  },
  {
   "cell_type": "markdown",
   "metadata": {},
   "source": [
    "# Q2 : if the ages of David, thomas and james are input through keyboard, write a program to determine the youngest of the three.\n",
    "\n"
   ]
  },
  {
   "cell_type": "code",
   "execution_count": 27,
   "metadata": {},
   "outputs": [
    {
     "name": "stdout",
     "output_type": "stream",
     "text": [
      "Enter age of David : 16\n",
      "Enter age of Thomas : 15\n",
      "Enter age of James : 17\n",
      "Thomas is youngest \n"
     ]
    }
   ],
   "source": [
    "ageOfDavid = int(input(\"Enter age of David : \"))\n",
    "ageOfThomas = int(input(\"Enter age of Thomas : \"))\n",
    "ageOfJames = int(input(\"Enter age of James : \"))\n",
    "\n",
    "if ageOfDavid < ageOfThomas and ageOfJames:\n",
    "    \n",
    "    print (\"David is youngest \")\n",
    "    \n",
    "elif  ageOfJames <  ageOfDavid and ageOfThomas :\n",
    "    \n",
    "    print ((\"James is youngest \"))\n",
    "    \n",
    "else:\n",
    "        print (\"Thomas is youngest \")\n",
    "    "
   ]
  },
  {
   "cell_type": "markdown",
   "metadata": {},
   "source": [
    "# Q3 : A triangle is valid if the sum of all the three angles is equal to 180 degrees. Write a program to check whether a triangle is valid or not, when the three angles of triangle are entered through the keyboard."
   ]
  },
  {
   "cell_type": "code",
   "execution_count": 30,
   "metadata": {},
   "outputs": [
    {
     "name": "stdout",
     "output_type": "stream",
     "text": [
      "Input value of angle A : 20\n",
      "Input value of angle B : 70\n",
      "Input value of angle C : 90\n",
      "Triangle is valid and sum of angles are =   180\n"
     ]
    }
   ],
   "source": [
    "angleA = int(input(\"Input value of angle A : \"))\n",
    "angleB = int(input(\"Input value of angle B : \"))\n",
    "angleC = int(input(\"Input value of angle C : \"))\n",
    "\n",
    "sumOfAngles = angleA + angleB + angleC\n",
    "\n",
    "if sumOfAngles == 180:\n",
    "    \n",
    "    print (\"Triangle is valid and sum of angles are =  \" , sumOfAngles)\n",
    "    \n",
    "else:\n",
    "    \n",
    "    print (\"Triangle is not valid and sum of angles are =  \" , sumOfAngles)"
   ]
  },
  {
   "cell_type": "markdown",
   "metadata": {},
   "source": [
    "# Q4 : In a company an employee is paid as under:                                                If his basic salary is less than Rs. 1500, then HRA =10% of basic salary and DA = 90% of basic salary. If his salary is either equal to or above Rs. 1500 then HRA = Rs. 500 and DA = 98% of basic salary. If the employee's salary is input through keyboard write a program to find his gross salary.\n"
   ]
  },
  {
   "cell_type": "code",
   "execution_count": 35,
   "metadata": {},
   "outputs": [
    {
     "name": "stdout",
     "output_type": "stream",
     "text": [
      "Input Employee salary : 1400\n",
      "Employee gross salary is  2800.0\n"
     ]
    }
   ],
   "source": [
    "salaryOfEmployee = float(input(\"Input Employee salary : \"))\n",
    "\n",
    "if salaryOfEmployee < 1500:\n",
    "    \n",
    "    grossSalary = (salaryOfEmployee*10/100) + (salaryOfEmployee*90/100) + salaryOfEmployee\n",
    "    \n",
    "    print (\"Employee gross salary is \" ,grossSalary )\n",
    "    \n",
    "elif salaryOfEmployee >= 1500:\n",
    "    \n",
    "    grossSalary = 500 + (salaryOfEmployee*98/100) + salaryOfEmployee\n",
    "    \n",
    "    print (\"Employee gross salary is \" ,grossSalary )\n"
   ]
  },
  {
   "cell_type": "code",
   "execution_count": null,
   "metadata": {},
   "outputs": [],
   "source": []
  }
 ],
 "metadata": {
  "kernelspec": {
   "display_name": "Python 3",
   "language": "python",
   "name": "python3"
  },
  "language_info": {
   "codemirror_mode": {
    "name": "ipython",
    "version": 3
   },
   "file_extension": ".py",
   "mimetype": "text/x-python",
   "name": "python",
   "nbconvert_exporter": "python",
   "pygments_lexer": "ipython3",
   "version": "3.8.5"
  }
 },
 "nbformat": 4,
 "nbformat_minor": 4
}

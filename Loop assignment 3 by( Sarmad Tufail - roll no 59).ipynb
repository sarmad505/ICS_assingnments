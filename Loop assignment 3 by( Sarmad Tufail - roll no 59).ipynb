{
 "cells": [
  {
   "cell_type": "markdown",
   "metadata": {},
   "source": [
    "   # Identify a prime number or not"
   ]
  },
  {
   "cell_type": "code",
   "execution_count": null,
   "metadata": {},
   "outputs": [],
   "source": [
    "Number = int(input(\"Enter a number to check it's prime or not: \"))\n",
    "noPrime = False\n",
    "if Number > 1:\n",
    "    for i in range (2,Number,1):\n",
    "        if (Number%i==0):\n",
    "\n",
    "            noPrime = True\n",
    "            break\n",
    "    \n",
    "if (noPrime ==False):\n",
    "    print (Number , \"Number is Prime number\")\n",
    "else:\n",
    "    print (Number , \"Number is not a Prime number\")"
   ]
  },
  {
   "cell_type": "markdown",
   "metadata": {},
   "source": [
    "   # Program to check the factorial of a number"
   ]
  },
  {
   "cell_type": "code",
   "execution_count": 1,
   "metadata": {},
   "outputs": [
    {
     "name": "stdout",
     "output_type": "stream",
     "text": [
      "Enter a number for factorial: 5\n",
      "Factorial of number is : 120\n"
     ]
    }
   ],
   "source": [
    "Number = int(input(\"Enter a number for factorial: \"))\n",
    "Factorial = 1\n",
    "\n",
    "for i in range(Number,1,-1):\n",
    "        \n",
    "        Factorial = Factorial * i\n",
    "        \n",
    "    \n",
    "        \n",
    "print (\"Factorial of number is :\" , Factorial)"
   ]
  },
  {
   "cell_type": "code",
   "execution_count": null,
   "metadata": {},
   "outputs": [],
   "source": []
  },
  {
   "cell_type": "code",
   "execution_count": null,
   "metadata": {},
   "outputs": [],
   "source": []
  }
 ],
 "metadata": {
  "kernelspec": {
   "display_name": "Python 3",
   "language": "python",
   "name": "python3"
  },
  "language_info": {
   "codemirror_mode": {
    "name": "ipython",
    "version": 3
   },
   "file_extension": ".py",
   "mimetype": "text/x-python",
   "name": "python",
   "nbconvert_exporter": "python",
   "pygments_lexer": "ipython3",
   "version": "3.8.5"
  }
 },
 "nbformat": 4,
 "nbformat_minor": 4
}
